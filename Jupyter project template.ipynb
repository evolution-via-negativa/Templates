{
 "cells": [
  {
   "cell_type": "markdown",
   "metadata": {},
   "source": [
    "# Название и описание проекта\n",
    "\n",
    "**Цель исследования —**"
   ]
  },
  {
   "cell_type": "markdown",
   "metadata": {},
   "source": [
    "# Содержание проекта:\n",
    "\n",
    "<div class=\"toc\">\n",
    "    <ul class=\"toc-item\">\n",
    "        <li><span><a href=\"#Ссылка 1\"><span class=\"toc-item-num\">1&nbsp;&nbsp;</span>Заголовок 1</a></span></li>\n",
    "        <li><span><a href=\"#Ссылка 2\"><span class=\"toc-item-num\">2&nbsp;&nbsp;</span>Заголовок 2</a></span></li>\n",
    "        <li><span><a href=\"#Ссылка 3\"><span class=\"toc-item-num\">3&nbsp;&nbsp;</span>Заголовок 3</a></span></li>\n",
    "    </ul>\n",
    "</div>"
   ]
  },
  {
   "cell_type": "markdown",
   "metadata": {},
   "source": [
    "Импортируем полезные библиотеки, объявим константы и зададим параметры по умолчанию"
   ]
  },
  {
   "cell_type": "code",
   "execution_count": null,
   "metadata": {},
   "outputs": [],
   "source": [
    "# data manipulation\n",
    "import numpy as np\n",
    "import pandas as pd\n",
    "\n",
    "# plotting\n",
    "import matplotlib.pyplot as plt\n",
    "import seaborn as sns\n",
    "\n",
    "# math\n",
    "import math\n",
    "import scipy.stats as st\n",
    "\n",
    "# utility\n",
    "from IPython.core.display import display, HTML\n",
    "from tqdm import tqdm\n",
    "\n",
    "# time series\n",
    "import calendar\n",
    "import datetime\n",
    "\n",
    "# sklearn\n",
    "from sklearn.model_selection import train_test_split, cross_val_score, GridSearchCV, RandomizedSearchCV\n",
    "from sklearn.preprocessing import OneHotEncoder, OrdinalEncoder, StandardScaler\n",
    "from sklearn.impute import SimpleImputer\n",
    "from sklearn.dummy import DummyClassifier, DummyRegressor\n",
    "from sklearn.linear_model import LogisticRegression, LinearRegression, SGDRegressor\n",
    "from sklearn.tree import DecisionTreeClassifier, DecisionTreeRegressor\n",
    "from sklearn.ensemble import RandomForestClassifier, RandomForestRegressor\n",
    "from sklearn.metrics import accuracy_score, f1_score, roc_curve, roc_auc_score, \n",
    "from sklearn.metrics import mean_squared_error, root_mean_squared_error,r2_score\n",
    "from sklearn.utils import shuffle\n",
    "from sklearn.pipeline import Pipeline\n",
    "from sklearn.compose import ColumnTransformer\n",
    "\n",
    "# lightgbm\n",
    "from lightgbm import LGBMRegressor\n",
    "\n",
    "# neural networks\n",
    "import torch\n",
    "import torch.nn as nn\n",
    "\n",
    "# constant values\n",
    "RANDOM_STATE = np.random.RandomState(884002)\n",
    "SMALL_SIZE = 12\n",
    "MEDIUM_SIZE = 18\n",
    "BIGGER_SIZE = 24\n",
    "\n",
    "# set default values\n",
    "display(HTML(\"<style>.container { width:75% !important; }</style>\"))\n",
    "pd.set_option('display.max_columns', None)\n",
    "pd.set_option('display.max_rows', None)\n",
    "pd.set_option('display.float_format', '{:.4f}'.format)\n",
    "plt.rc('font', size=SMALL_SIZE)                                    # controls default text sizes\n",
    "plt.rc('axes', titlesize=MEDIUM_SIZE)                              # fontsize of the axes title\n",
    "plt.rc('axes', labelsize=MEDIUM_SIZE)                              # fontsize of the x and y labels\n",
    "plt.rc('xtick', labelsize=SMALL_SIZE)                              # fontsize of the tick labels\n",
    "plt.rc('ytick', labelsize=SMALL_SIZE)                              # fontsize of the tick labels\n",
    "plt.rc('legend', fontsize=SMALL_SIZE)                              # legend fontsize\n",
    "plt.rc('figure', titlesize=BIGGER_SIZE)                            # fontsize of the figure title\n",
    "plt.rc('figure', figsize=(18, 12))                                 # controls figure size\n",
    "sns.set(rc={'figure.figsize':(18, 12)})"
   ]
  },
  {
   "cell_type": "markdown",
   "metadata": {},
   "source": [
    "## Загрузка и разведочный анализ данных"
   ]
  },
  {
   "cell_type": "markdown",
   "metadata": {},
   "source": [
    "### Получим данные безопасным способом при помощи конструкции try-except:"
   ]
  },
  {
   "cell_type": "code",
   "execution_count": null,
   "metadata": {},
   "outputs": [],
   "source": [
    "try:\n",
    "    data = pd.read_csv('/datasets/real_estate_data.csv')\n",
    "except:\n",
    "    data = pd.read_csv('https://code.s3.yandex.net/datasets/real_estate_data.csv')"
   ]
  },
  {
   "cell_type": "markdown",
   "metadata": {},
   "source": [
    "### Ознакомимся с набором данных. Выведем несколько строк из датафрейма, взятых случайным образом:"
   ]
  },
  {
   "cell_type": "code",
   "execution_count": null,
   "metadata": {},
   "outputs": [],
   "source": [
    "data.sample(random_state=RANDOM_STATE)"
   ]
  },
  {
   "cell_type": "markdown",
   "metadata": {},
   "source": [
    "### Отобразим информацию для краткого обзора данных:"
   ]
  },
  {
   "cell_type": "code",
   "execution_count": null,
   "metadata": {},
   "outputs": [],
   "source": [
    "data.info()"
   ]
  },
  {
   "cell_type": "markdown",
   "metadata": {},
   "source": [
    "### Отобразим таблицу с описательной статистикой столбцов:"
   ]
  },
  {
   "cell_type": "code",
   "execution_count": null,
   "metadata": {},
   "outputs": [],
   "source": [
    "data.describe()"
   ]
  },
  {
   "cell_type": "markdown",
   "metadata": {},
   "source": [
    "### Отобразим таблицу с попарными корреляциями столбцов:"
   ]
  },
  {
   "cell_type": "code",
   "execution_count": null,
   "metadata": {},
   "outputs": [],
   "source": [
    "data.corr()"
   ]
  },
  {
   "cell_type": "markdown",
   "metadata": {},
   "source": [
    "### Отобразим гистограммы распределений значений столбцов:"
   ]
  },
  {
   "cell_type": "code",
   "execution_count": null,
   "metadata": {},
   "outputs": [],
   "source": [
    "fig = plt.figure()\n",
    "plt.subplots_adjust(wspace=0.25, hspace=0.8)\n",
    "\n",
    "for i, col in enumerate(data.columns.difference([''])):\n",
    "    ax = fig.add_subplot(4, 3, i + 1)\n",
    "    \n",
    "    # Отобразим количественные и категориальные переменные соответствующими методами\n",
    "    if np.issubdtype(data[col].dtype, np.number):\n",
    "        data[col].plot(kind='hist')\n",
    "    else:\n",
    "        data[col].value_counts().plot(kind='bar')\n",
    "    \n",
    "    ax.set_title(col)\n",
    "    ax.grid(visible=True)"
   ]
  },
  {
   "cell_type": "markdown",
   "metadata": {},
   "source": [
    "### Построим гисограммы для всех количественных столбцов:"
   ]
  },
  {
   "cell_type": "code",
   "execution_count": null,
   "metadata": {},
   "outputs": [],
   "source": [
    "data.hist(figsize=(15, 20));"
   ]
  },
  {
   "cell_type": "markdown",
   "metadata": {},
   "source": [
    "### Краткий вывод:\n",
    "В данных были обнаружены следующие проблемы (или их отсутствие):\n",
    "- в данных присутствуют/отсутствуют нарушения правила хорошего стиля в названиях столбцов\n",
    "- в данных присутствуют/отсутствуют несоответствия типов в столбцах ``\n",
    "- в данных присутствуют/отсутствуют намёки на мультиколлинеарность"
   ]
  },
  {
   "cell_type": "markdown",
   "metadata": {},
   "source": [
    "## Предобработка данных"
   ]
  },
  {
   "cell_type": "code",
   "execution_count": null,
   "metadata": {},
   "outputs": [],
   "source": [
    "# check\n",
    "data.columns"
   ]
  },
  {
   "cell_type": "markdown",
   "metadata": {},
   "source": [
    "### Исправим нарушения правил хорошего стиля в названиях столбцов:"
   ]
  },
  {
   "cell_type": "markdown",
   "metadata": {},
   "source": [
    "* несколько слов в названии запишем в «змеином_регистре»\n",
    "* все символы сделаем строчными\n",
    "* устраним пробелы"
   ]
  },
  {
   "cell_type": "code",
   "execution_count": null,
   "metadata": {},
   "outputs": [],
   "source": [
    "data.rename(inplace=True, columns={})"
   ]
  },
  {
   "cell_type": "markdown",
   "metadata": {},
   "source": [
    "### Исправим несоответствия типов в столбцах:"
   ]
  },
  {
   "cell_type": "code",
   "execution_count": null,
   "metadata": {},
   "outputs": [],
   "source": [
    "data = data.astype({})\n",
    "\n",
    "# check\n",
    "data.dtypes"
   ]
  },
  {
   "cell_type": "markdown",
   "metadata": {},
   "source": [
    "### Добавим новые столбцы:"
   ]
  },
  {
   "cell_type": "markdown",
   "metadata": {},
   "source": [
    "Категоризуем данные"
   ]
  },
  {
   "cell_type": "markdown",
   "metadata": {},
   "source": [
    "### Удалим неинформативные столбцы, которые не несут ценности для прогноза::"
   ]
  },
  {
   "cell_type": "code",
   "execution_count": null,
   "metadata": {},
   "outputs": [],
   "source": [
    "data.drop([''], axis=1, inplace=True)\n",
    "\n",
    "# check\n",
    "data.columns"
   ]
  },
  {
   "cell_type": "markdown",
   "metadata": {},
   "source": [
    "### Обработаем пропущенные значения:"
   ]
  },
  {
   "cell_type": "markdown",
   "metadata": {},
   "source": [
    "Сначала посчитаем, сколько в таблице пропущенных значений"
   ]
  },
  {
   "cell_type": "code",
   "execution_count": null,
   "metadata": {},
   "outputs": [],
   "source": [
    "data.isna().sum()"
   ]
  },
  {
   "cell_type": "markdown",
   "metadata": {},
   "source": [
    "Различают следующие 3 механизма формирования пропусков:\n",
    "1. **MCAR**. Механизм формирования пропусков, при котором вероятность пропуска для каждой записи набора одинакова. Столбцы, которые имеют такой механизм формирования пропусков:\n",
    "    - ` `\n",
    "2. **MAR**. Механизм формирования пропусков, при котором вероятность пропуска может быть определена на основе другой имеющейся в наборе данных информации, не содержащей пропуски. Столбцы, которые имеют такой механизм формирования пропусков:\n",
    "    - ` `\n",
    "3. **MNAR**. Механизм формирования пропусков, при котором вероятность пропуска могла бы быть описана на основе других атрибутов, но информация по этим атрибутам в наборе данных отсутствует (например, объект недвижимости может иметь подземный этаж или чердак, но такая информация в наборе данных отсутствует). Столбцы, которые имеют такой механизм формирования пропусков:  \n",
    "    - ` `"
   ]
  },
  {
   "cell_type": "markdown",
   "metadata": {},
   "source": [
    "Убедимся, что в таблице не осталось пропусков. Для этого ещё раз посчитаем пропущенные значения"
   ]
  },
  {
   "cell_type": "code",
   "execution_count": null,
   "metadata": {},
   "outputs": [],
   "source": [
    "data.isna().sum()"
   ]
  },
  {
   "cell_type": "markdown",
   "metadata": {},
   "source": [
    "### Обработаем дубликаты:"
   ]
  },
  {
   "cell_type": "markdown",
   "metadata": {},
   "source": [
    "Сначала обработаем неявные дубликаты"
   ]
  },
  {
   "cell_type": "markdown",
   "metadata": {},
   "source": [
    "Выведем на экран количество полных строк-дубликатов"
   ]
  },
  {
   "cell_type": "code",
   "execution_count": null,
   "metadata": {},
   "outputs": [],
   "source": [
    "data.duplicated().sum()"
   ]
  },
  {
   "cell_type": "markdown",
   "metadata": {},
   "source": [
    "Удалим полные дубликаты из таблицы"
   ]
  },
  {
   "cell_type": "code",
   "execution_count": null,
   "metadata": {},
   "outputs": [],
   "source": [
    "data = data.drop_duplicates()"
   ]
  },
  {
   "cell_type": "markdown",
   "metadata": {},
   "source": [
    "Выведем на экран неполные дубликаты по подмножеству стобцов"
   ]
  },
  {
   "cell_type": "code",
   "execution_count": null,
   "metadata": {},
   "outputs": [],
   "source": [
    "data[data.duplicated(subset=[])]"
   ]
  },
  {
   "cell_type": "markdown",
   "metadata": {},
   "source": [
    "Удалим неполные дубликаты из таблицы"
   ]
  },
  {
   "cell_type": "code",
   "execution_count": null,
   "metadata": {},
   "outputs": [],
   "source": [
    "data = data.drop_duplicates(subset=[])"
   ]
  },
  {
   "cell_type": "markdown",
   "metadata": {},
   "source": [
    "Ещё раз посчитаем явные дубликаты в таблице и убедимся, что полностью от них избавились"
   ]
  },
  {
   "cell_type": "code",
   "execution_count": null,
   "metadata": {},
   "outputs": [],
   "source": [
    "data.duplicated().sum()"
   ]
  },
  {
   "cell_type": "markdown",
   "metadata": {},
   "source": [
    "### Обработаем аномальные значения:"
   ]
  },
  {
   "cell_type": "markdown",
   "metadata": {},
   "source": [
    "Учтем особенности фильтрации `pandas`, чтобы не потерять записи с пропусками"
   ]
  },
  {
   "cell_type": "markdown",
   "metadata": {},
   "source": [
    "### Краткий вывод:\n",
    "В данных были устранены следующие проблемы:\n",
    "- нарушения правил хорошего стиля в названиях столбцов\n",
    "- несоответствия типов в столбцах\n",
    "- неинформативные признаки, которые не несут ценности для прогноза\n",
    "- пропуски в столбцах ``\n",
    "- явные и неявные дубликаты\n",
    "- аномальные значения в столбцах ``"
   ]
  },
  {
   "cell_type": "markdown",
   "metadata": {},
   "source": [
    "## Исследовательский анализ данных:"
   ]
  },
  {
   "cell_type": "markdown",
   "metadata": {},
   "source": [
    "### Изучим баланс классов:"
   ]
  },
  {
   "cell_type": "markdown",
   "metadata": {},
   "source": [
    "### Проанализируем как целевой признак `` связан со всеми остальными признаками:"
   ]
  },
  {
   "cell_type": "code",
   "execution_count": null,
   "metadata": {},
   "outputs": [],
   "source": [
    "corr_data = data.corr()[''].sort_values(key=abs)\n",
    "abs(corr_data).plot(kind='barh', \n",
    "                    fontsize=14,\n",
    "                    color=(corr_data > 0).map({True: 'g', False: 'r'}),\n",
    "                    edgecolor='black',\n",
    "                    title='',\n",
    "                    grid=True);"
   ]
  },
  {
   "cell_type": "markdown",
   "metadata": {},
   "source": [
    "### Краткий вывод:"
   ]
  },
  {
   "cell_type": "markdown",
   "metadata": {},
   "source": [
    "## Обучение моделей:"
   ]
  },
  {
   "cell_type": "markdown",
   "metadata": {},
   "source": [
    "### Разделим исходные данные на обучающую, валидационную и тестовую выборки в соотношении 3:1:1"
   ]
  },
  {
   "cell_type": "code",
   "execution_count": null,
   "metadata": {},
   "outputs": [],
   "source": [
    "train_data, test_data = train_test_split(data, test_size=0.2, random_state=12345, stratify=data.is_ultra)\n",
    "train_data, valid_data = train_test_split(train_data, test_size=0.25, random_state=12345, stratify=train_data.is_ultra)\n",
    "\n",
    "split = pd.DataFrame(columns=['proprotion'])\n",
    "for dataset in [train_data, valid_data, test_data]:\n",
    "    split[dataset] = len(dataset) / len(data)"
   ]
  },
  {
   "cell_type": "code",
   "execution_count": null,
   "metadata": {},
   "outputs": [],
   "source": [
    "# Разделим обучающую выборку\n",
    "train_features = train_data.drop(['is_ultra'], axis=1) \n",
    "train_target = train_data['is_ultra']\n",
    "\n",
    "# Разделим валидационную выборку\n",
    "valid_features = valid_data.drop(['is_ultra'], axis=1)\n",
    "valid_target = valid_data['is_ultra']\n",
    "\n",
    "# Разделим тестовую выборку\n",
    "test_features = test_data.drop(['is_ultra'], axis=1)\n",
    "test_target = test_data['is_ultra']"
   ]
  },
  {
   "cell_type": "markdown",
   "metadata": {},
   "source": [
    "### Создадим базовый пайплайн для предобработки данных:"
   ]
  },
  {
   "cell_type": "code",
   "execution_count": null,
   "metadata": {},
   "outputs": [],
   "source": []
  },
  {
   "cell_type": "markdown",
   "metadata": {},
   "source": [
    "### Создадим модели:"
   ]
  },
  {
   "cell_type": "code",
   "execution_count": null,
   "metadata": {},
   "outputs": [],
   "source": []
  },
  {
   "cell_type": "markdown",
   "metadata": {},
   "source": [
    "### Кросс-валидация:"
   ]
  },
  {
   "cell_type": "code",
   "execution_count": null,
   "metadata": {},
   "outputs": [],
   "source": []
  },
  {
   "cell_type": "markdown",
   "metadata": {},
   "source": [
    "### Краткий вывод:"
   ]
  },
  {
   "cell_type": "markdown",
   "metadata": {},
   "source": [
    "## Тестирование и анализ наилучшей модели:"
   ]
  },
  {
   "cell_type": "code",
   "execution_count": null,
   "metadata": {},
   "outputs": [],
   "source": [
    "probabilities_one_valid = forest_model.predict_proba(valid_features)[:, 1]\n",
    "fpr, tpr, thresholds = roc_curve(valid_target, probabilities_one_valid)\n",
    "\n",
    "plt.figure()\n",
    "# ROC-кривая модели RandomForestClassifier\n",
    "plt.plot(fpr, tpr)\n",
    "\n",
    "# ROC-кривая случайной модели (выглядит как прямая)\n",
    "plt.plot([0, 1], [0, 1], linestyle='--')\n",
    "plt.xlim(0, 1.0)\n",
    "plt.ylim(0, 1.0)\n",
    "plt.xlabel('False Positive Rate')\n",
    "plt.ylabel('True Positive Rate')\n",
    "plt.title('ROC-кривая')\n",
    "plt.show()\n",
    "\n",
    "print('Площадь под ROC-кривой (AUC-ROC) равна:', roc_auc_score(valid_target, probabilities_one_valid))"
   ]
  },
  {
   "cell_type": "markdown",
   "metadata": {},
   "source": [
    "### Краткий вывод:"
   ]
  },
  {
   "cell_type": "markdown",
   "metadata": {},
   "source": [
    "## Общий вывод:"
   ]
  },
  {
   "cell_type": "code",
   "execution_count": null,
   "metadata": {},
   "outputs": [],
   "source": []
  }
 ],
 "metadata": {
  "ExecuteTimeLog": [
   {
    "duration": 54,
    "start_time": "2024-06-11T13:30:20.728Z"
   },
   {
    "duration": 55,
    "start_time": "2024-06-11T13:50:37.629Z"
   },
   {
    "duration": 55,
    "start_time": "2024-06-11T13:51:29.108Z"
   },
   {
    "duration": 44,
    "start_time": "2024-06-11T13:53:48.752Z"
   },
   {
    "duration": 78,
    "start_time": "2024-06-11T17:24:30.892Z"
   },
   {
    "duration": 39,
    "start_time": "2024-06-11T20:25:22.502Z"
   },
   {
    "duration": 6,
    "start_time": "2024-06-11T20:25:38.260Z"
   },
   {
    "duration": 53,
    "start_time": "2024-06-13T15:20:13.881Z"
   },
   {
    "duration": 49,
    "start_time": "2024-06-13T15:20:16.658Z"
   }
  ],
  "kernelspec": {
   "display_name": "Python 3 (ipykernel)",
   "language": "python",
   "name": "python3"
  },
  "language_info": {
   "codemirror_mode": {
    "name": "ipython",
    "version": 3
   },
   "file_extension": ".py",
   "mimetype": "text/x-python",
   "name": "python",
   "nbconvert_exporter": "python",
   "pygments_lexer": "ipython3",
   "version": "3.9.5"
  },
  "toc": {
   "base_numbering": 1,
   "nav_menu": {},
   "number_sections": true,
   "sideBar": true,
   "skip_h1_title": true,
   "title_cell": "Table of Contents",
   "title_sidebar": "Contents",
   "toc_cell": false,
   "toc_position": {},
   "toc_section_display": true,
   "toc_window_display": false
  }
 },
 "nbformat": 4,
 "nbformat_minor": 2
}
